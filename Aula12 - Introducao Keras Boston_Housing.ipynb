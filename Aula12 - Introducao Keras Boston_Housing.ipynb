{
 "cells": [
  {
   "cell_type": "markdown",
   "metadata": {},
   "source": [
    "# Introdução ao Keras - Bostong House Pricing\n",
    "\n",
    "Semelhante ao notebook anterior, mas agora utilizando a base boston_housing."
   ]
  },
  {
   "cell_type": "code",
   "execution_count": 38,
   "metadata": {},
   "outputs": [
    {
     "data": {
      "text/plain": [
       "((404, 13), (404,), (102, 13), (102,))"
      ]
     },
     "execution_count": 38,
     "metadata": {},
     "output_type": "execute_result"
    }
   ],
   "source": [
    "from tensorflow.keras.datasets import boston_housing\n",
    "(train_data, train_targets), (test_data, test_targets) = (boston_housing.load_data())\n",
    "\n",
    "train_data.shape, train_targets.shape, test_data.shape, test_targets.shape"
   ]
  },
  {
   "cell_type": "code",
   "execution_count": 33,
   "metadata": {},
   "outputs": [],
   "source": [
    "import numpy as np\n",
    "from tensorflow import keras\n",
    "from keras import layers\n",
    "from tensorflow.keras.utils import to_categorical\n",
    "\n",
    "X_train = train_data\n",
    "X_test = test_data\n",
    "y_train = train_targets\n",
    "y_test = test_targets"
   ]
  },
  {
   "cell_type": "code",
   "execution_count": 48,
   "metadata": {},
   "outputs": [
    {
     "name": "stdout",
     "output_type": "stream",
     "text": [
      "Epoch 1/20\n",
      "1/1 [==============================] - 1s 643ms/step - loss: 2077.5454 - mae: 44.6223 - val_loss: 209.9031 - val_mae: 11.2460\n",
      "Epoch 2/20\n",
      "1/1 [==============================] - 0s 43ms/step - loss: 192.3243 - mae: 11.2410 - val_loss: 97.5576 - val_mae: 7.2321\n",
      "Epoch 3/20\n",
      "1/1 [==============================] - 0s 47ms/step - loss: 117.0571 - mae: 8.2995 - val_loss: 84.8111 - val_mae: 6.8186\n",
      "Epoch 4/20\n",
      "1/1 [==============================] - 0s 49ms/step - loss: 97.6226 - mae: 7.5848 - val_loss: 74.5085 - val_mae: 6.5165\n",
      "Epoch 5/20\n",
      "1/1 [==============================] - 0s 43ms/step - loss: 88.0936 - mae: 6.9942 - val_loss: 69.7161 - val_mae: 6.3886\n",
      "Epoch 6/20\n",
      "1/1 [==============================] - 0s 43ms/step - loss: 83.7913 - mae: 6.7368 - val_loss: 67.2237 - val_mae: 6.3309\n",
      "Epoch 7/20\n",
      "1/1 [==============================] - 0s 45ms/step - loss: 81.4589 - mae: 6.6354 - val_loss: 65.6199 - val_mae: 6.2949\n",
      "Epoch 8/20\n",
      "1/1 [==============================] - 0s 41ms/step - loss: 80.0446 - mae: 6.5682 - val_loss: 64.4272 - val_mae: 6.2501\n",
      "Epoch 9/20\n",
      "1/1 [==============================] - 0s 59ms/step - loss: 79.0850 - mae: 6.5148 - val_loss: 63.5774 - val_mae: 6.2131\n",
      "Epoch 10/20\n",
      "1/1 [==============================] - 0s 53ms/step - loss: 78.3579 - mae: 6.4775 - val_loss: 62.8928 - val_mae: 6.1771\n",
      "Epoch 11/20\n",
      "1/1 [==============================] - 0s 49ms/step - loss: 77.8028 - mae: 6.4448 - val_loss: 62.2408 - val_mae: 6.1365\n",
      "Epoch 12/20\n",
      "1/1 [==============================] - 0s 55ms/step - loss: 77.3253 - mae: 6.4172 - val_loss: 61.7918 - val_mae: 6.1078\n",
      "Epoch 13/20\n",
      "1/1 [==============================] - 0s 51ms/step - loss: 76.8833 - mae: 6.3979 - val_loss: 61.3846 - val_mae: 6.0791\n",
      "Epoch 14/20\n",
      "1/1 [==============================] - 0s 66ms/step - loss: 76.4687 - mae: 6.3781 - val_loss: 60.8898 - val_mae: 6.0407\n",
      "Epoch 15/20\n",
      "1/1 [==============================] - 0s 66ms/step - loss: 76.0749 - mae: 6.3513 - val_loss: 60.6489 - val_mae: 6.0243\n",
      "Epoch 16/20\n",
      "1/1 [==============================] - 0s 67ms/step - loss: 75.7081 - mae: 6.3398 - val_loss: 60.0105 - val_mae: 5.9768\n",
      "Epoch 17/20\n",
      "1/1 [==============================] - 0s 46ms/step - loss: 75.3526 - mae: 6.2997 - val_loss: 60.4006 - val_mae: 6.0164\n",
      "Epoch 18/20\n",
      "1/1 [==============================] - 0s 43ms/step - loss: 74.9749 - mae: 6.3249 - val_loss: 58.3093 - val_mae: 5.8406\n",
      "Epoch 19/20\n",
      "1/1 [==============================] - 0s 39ms/step - loss: 74.6354 - mae: 6.1910 - val_loss: 62.9374 - val_mae: 6.2526\n",
      "Epoch 20/20\n",
      "1/1 [==============================] - 0s 39ms/step - loss: 74.8121 - mae: 6.5079 - val_loss: 54.9778 - val_mae: 5.3383\n",
      "4/4 [==============================] - 0s 5ms/step - loss: 66.1951 - mae: 5.9672\n",
      "[66.19514465332031, 5.967180252075195]\n"
     ]
    }
   ],
   "source": [
    "from sklearn.model_selection import train_test_split\n",
    "\n",
    "model = keras.Sequential([layers.Dense(64, activation=\"relu\"),\n",
    "                          layers.Dense(64, activation=\"relu\"),\n",
    "                          layers.Dense(1, activation=\"linear\")]) #linear é default\n",
    "\n",
    "model.compile(optimizer=\"rmsprop\",\n",
    "              loss=\"mse\",\n",
    "              metrics=[\"mae\"])#loss com mse - mae min absolute error\n",
    "\n",
    "#X_train, X_test, y_train, y_test = train_test_split(X_train, y_train, test_size=0.9)\n",
    "\n",
    "#separando as bases de treino de validação\n",
    "\n",
    "X_val = X_train[:300]\n",
    "partial_x_train = X_train[300:]\n",
    "\n",
    "y_val = y_train[:300]\n",
    "partial_y_train = y_train[300:]\n",
    "\n",
    "\n",
    "history = model.fit(partial_x_train, partial_y_train, \n",
    "                    epochs=20, batch_size=512, \n",
    "                    validation_data=(X_val, y_val))\n",
    "\n",
    "result = model.evaluate(X_test, y_test)\n",
    "print(result)"
   ]
  },
  {
   "cell_type": "code",
   "execution_count": 49,
   "metadata": {},
   "outputs": [
    {
     "data": {
      "image/png": "[encoded data removed]",
      "text/plain": [
       "<Figure size 432x288 with 1 Axes>"
      ]
     },
     "metadata": {
      "needs_background": "light"
     },
     "output_type": "display_data"
    }
   ],
   "source": [
    "import matplotlib.pyplot as plt\n",
    "\n",
    "def PrintHistory(history, function=\"mse\"): #loss ou accuracy\n",
    "    history_dict = history.history\n",
    "    loss_values = history_dict[function]\n",
    "    val_loss_values = history_dict[\"val_\"+function]\n",
    "    epochs = range(1, len(loss_values)+1)\n",
    "    \n",
    "    plt.plot(epochs, loss_values, \"-\", label=\"Training \"+function) #bo=blue o\n",
    "    plt.plot(epochs, val_loss_values, \"r\", label=\"Validation \"+function)\n",
    "    plt.title(\"Training and validation \"+function)\n",
    "    plt.xlabel(\"Epochs\")\n",
    "    plt.xlabel(function)\n",
    "    plt.legend()\n",
    "    plt.show()\n",
    "\n",
    "PrintHistory(history=history, function=\"mae\")\n",
    "#PrintHistory(history=history, function=\"accuracy\")"
   ]
  },
  {
   "cell_type": "markdown",
   "metadata": {},
   "source": [
    "### Melhorando a solução\n",
    "\n",
    "Observe que o grafico da validação obtido acima acompanha o grafico do treino. Isso significa que não conseguimos atingir o ponto em que começa a dar overfiting. Ou seja, não conseguimos provar que não saímos do underfiting. Então, precisamos criar algumas estratégias para tentar, fazendo crossvalidation, melhorar a validação. Graficamente, isso significa que precisamos encontrar o ponto em que os graficos começam a divergir, semelhante à \"boca do jacaré\", encontrado nos notebooks anteriores.\n",
    "\n",
    "Aplicando uma solução para separar por K-Folds e utilizar cross-validation, pois a quantidade de dados da base é muito pequena."
   ]
  },
  {
   "cell_type": "code",
   "execution_count": 107,
   "metadata": {},
   "outputs": [],
   "source": [
    "from tensorflow import keras\n",
    "from tensorflow.keras import layers\n",
    "\n",
    "def build_model():\n",
    "    model = keras.Sequential([\n",
    "        layers.Dense(64, activation=\"relu\"),\n",
    "        layers.Dense(64, activation=\"relu\"),\n",
    "        layers.BatchNormalization(),\n",
    "        layers.Dense(64, activation=\"relu\"),\n",
    "        layers.Dense(1),\n",
    "    ])\n",
    "        \n",
    "    opt = keras.optimizers.RMSprop(learning_rate=0.005)\n",
    "    model.compile(optimizer=opt, loss=\"mse\", metrics=[\"mae\"])\n",
    "    return model"
   ]
  },
  {
   "cell_type": "code",
   "execution_count": 108,
   "metadata": {},
   "outputs": [],
   "source": [
    "import numpy as np\n",
    "\n",
    "mean = train_data.mean(axis=0)\n",
    "train_data -= mean\n",
    "std = train_data.std(axis=0)\n",
    "train_data /= std\n",
    "test_data -= mean\n",
    "test_data /= std\n",
    "\n",
    "k = 4\n",
    "num_val_samples = len(train_data) // k\n",
    "num_epochs = 50\n",
    "all_scores = []\n",
    "TESTE = False\n",
    "\n",
    "if TESTE:\n",
    "    for i in range(k):\n",
    "        print(f\"Processing fold #{i}\")\n",
    "        val_data = train_data[i * num_val_samples: (i+1) * num_val_samples]\n",
    "        val_targets = train_targets[i * num_val_samples: (i+1) * num_val_samples]\n",
    "        partial_train_data = np.concatenate([train_data[:i * num_val_samples],\n",
    "                                            train_data[:(i+1) * num_val_samples]],\n",
    "                                            axis=0)\n",
    "        partial_train_targets = np.concatenate([train_targets[:i * num_val_samples],\n",
    "                                            train_targets[:(i+1) * num_val_samples]],\n",
    "                                            axis=0)\n",
    "        model = build_model()\n",
    "        model.fit(partial_train_data, partial_train_targets,\n",
    "                epochs=num_epochs, batch_size=16, verbose=0)\n",
    "        #avaliando o resultado do evaluate\n",
    "        val_mse, val_mae = model.evaluate(val_data, val_targets, verbose=0)\n",
    "        all_scores.append(val_mae)\n",
    "\n",
    "    all_scores, np.mean(all_scores)"
   ]
  },
  {
   "cell_type": "code",
   "execution_count": 109,
   "metadata": {},
   "outputs": [
    {
     "name": "stdout",
     "output_type": "stream",
     "text": [
      "Processing fold #0\n",
      "Processing fold #1\n",
      "Processing fold #2\n",
      "Processing fold #3\n"
     ]
    }
   ],
   "source": [
    "#num_epochs = 500\n",
    "num_epochs = 50\n",
    "all_mae_histories = []\n",
    "loss_all_mae_histories = []\n",
    "for i in range(k):\n",
    "    print(f\"Processing fold #{i}\")\n",
    "    val_data = train_data[i * num_val_samples: (i+1) * num_val_samples]\n",
    "    val_targets = train_targets[i * num_val_samples: (i+1) * num_val_samples]\n",
    "    partial_train_data = np.concatenate([train_data[:i * num_val_samples],\n",
    "                                         train_data[:(i+1) * num_val_samples]],\n",
    "                                         axis=0)\n",
    "    partial_train_targets = np.concatenate([train_targets[:i * num_val_samples],\n",
    "                                         train_targets[:(i+1) * num_val_samples]],\n",
    "                                         axis=0)\n",
    "    model = build_model()\n",
    "    history = model.fit(partial_train_data, partial_train_targets,\n",
    "                        validation_data=(val_data, val_targets),\n",
    "                        epochs=num_epochs, batch_size=16, verbose=0)\n",
    "    \n",
    "    loss_mae_history = history.history[\"mae\"]\n",
    "    loss_all_mae_histories.append(loss_mae_history)\n",
    "    loss_average_mae_history = [np.mean([x[i] for x in loss_all_mae_histories]) for i in range(num_epochs)]\n",
    "    \n",
    "    mae_history = history.history[\"val_mae\"]\n",
    "    all_mae_histories.append(mae_history)\n",
    "    average_mae_history = [np.mean([x[i] for x in all_mae_histories]) for i in range(num_epochs)]"
   ]
  },
  {
   "cell_type": "code",
   "execution_count": 110,
   "metadata": {},
   "outputs": [
    {
     "data": {
      "image/png": "[encoded data removed]",
      "text/plain": [
       "<Figure size 432x288 with 1 Axes>"
      ]
     },
     "metadata": {
      "needs_background": "light"
     },
     "output_type": "display_data"
    }
   ],
   "source": [
    "import matplotlib.pyplot as plt\n",
    "\n",
    "#plt.plot(epochs, loss_values, \"-\", label=\"Training \"+function) #bo=blue o\n",
    "plt.plot(range(1,len(loss_average_mae_history)+1), loss_average_mae_history, \"bo\")\n",
    "plt.plot(range(1,len(average_mae_history)+1), average_mae_history, \"b\")\n",
    "plt.xlabel(\"Epochs\")\n",
    "plt.ylabel(\"Validation MAE\")\n",
    "plt.show()\n"
   ]
  },
  {
   "cell_type": "code",
   "execution_count": 111,
   "metadata": {},
   "outputs": [
    {
     "data": {
      "image/png": "[encoded data removed]",
      "text/plain": [
       "<Figure size 432x288 with 1 Axes>"
      ]
     },
     "metadata": {
      "needs_background": "light"
     },
     "output_type": "display_data"
    }
   ],
   "source": [
    "begin = 10\n",
    "loss_truncated_mae_history = loss_average_mae_history[begin:]\n",
    "truncated_mae_history = average_mae_history[begin:]\n",
    "\n",
    "plt.plot(range(begin+1,len(loss_average_mae_history)+1), loss_truncated_mae_history, \"bo\", label=\"Trunc. Training mse\")\n",
    "plt.plot(range(begin+1,len(average_mae_history)+1), truncated_mae_history, \"b\", label=\"Trunc. Validation mse\")\n",
    "plt.xlabel(\"Epochs\")\n",
    "plt.ylabel(\"Validation MAE\")\n",
    "plt.show()"
   ]
  },
  {
   "cell_type": "markdown",
   "metadata": {},
   "source": [
    "Ainda não consegui o grafico mostrar divergindo. Testando batchnormalization e novas camadas, mesmo assim não deu."
   ]
  }
 ],
 "metadata": {
  "interpreter": {
   "hash": "789afba2c2ece3ddcca599b9aeed63445a6de9a1326ce762a42af1715f9d113c"
  },
  "kernelspec": {
   "display_name": "Python 3.8.8 64-bit",
   "language": "python",
   "name": "python3"
  },
  "language_info": {
   "codemirror_mode": {
    "name": "ipython",
    "version": 3
   },
   "file_extension": ".py",
   "mimetype": "text/x-python",
   "name": "python",
   "nbconvert_exporter": "python",
   "pygments_lexer": "ipython3",
   "version": "3.8.8"
  },
  "orig_nbformat": 4
 },
 "nbformat": 4,
 "nbformat_minor": 2
}
