{
 "cells": [
  {
   "cell_type": "code",
   "execution_count": null,
   "metadata": {},
   "outputs": [],
   "source": []
  },
  {
   "cell_type": "markdown",
   "metadata": {},
   "source": [
    "## Perceptron - Funções de Custo\n",
    "\n",
    "Fonte base: https://github.com/fboldt/aulasann/blob/main/perceptron.ipynb"
   ]
  },
  {
   "cell_type": "code",
   "execution_count": 1,
   "metadata": {},
   "outputs": [
    {
     "data": {
      "text/plain": [
       "(array([[0.50652298, 0.9537305 ],\n",
       "        [0.44872028, 0.67496988],\n",
       "        [0.47326918, 0.13294945],\n",
       "        [0.97306118, 0.8502517 ],\n",
       "        [0.04122962, 0.99157663],\n",
       "        [0.27223159, 0.98405334],\n",
       "        [0.53814016, 0.33401104],\n",
       "        [0.91379538, 0.16008779],\n",
       "        [0.36206739, 0.47648699],\n",
       "        [0.88850218, 0.50533149],\n",
       "        [0.80651319, 0.07769451],\n",
       "        [0.74171068, 0.99093305],\n",
       "        [0.01259413, 0.13083083],\n",
       "        [0.90424533, 0.99009164],\n",
       "        [0.45729612, 0.5397264 ],\n",
       "        [0.23068699, 0.51130182],\n",
       "        [0.61352797, 0.87060419],\n",
       "        [0.5790606 , 0.99324414],\n",
       "        [0.1349125 , 0.13481709],\n",
       "        [0.88542958, 0.45885006]]),\n",
       " array([-1, -1,  1,  1, -1, -1,  1,  1, -1,  1,  1, -1, -1, -1, -1, -1, -1,\n",
       "        -1,  1,  1]))"
      ]
     },
     "execution_count": 1,
     "metadata": {},
     "output_type": "execute_result"
    }
   ],
   "source": [
    "import numpy as np\n",
    "\n",
    "def geradataset(tamanho=20):\n",
    "    X = np.random.uniform(size=(tamanho,2))\n",
    "    y = np.array(X[:,0]>X[:,1], dtype=int)*2-1\n",
    "    return X, y\n",
    "\n",
    "X, y = geradataset(20)\n",
    "X, y"
   ]
  },
  {
   "cell_type": "code",
   "execution_count": 2,
   "metadata": {},
   "outputs": [
    {
     "data": {
      "image/png": "[encoded data removed]",
      "text/plain": [
       "<Figure size 432x288 with 1 Axes>"
      ]
     },
     "metadata": {
      "needs_background": "light"
     },
     "output_type": "display_data"
    }
   ],
   "source": [
    "import matplotlib.pyplot as plt\n",
    "\n",
    "def plotadataset(X, y):\n",
    "    for k in set(y):\n",
    "        plt.plot(X[:,0][y==k],X[:,1][y==k], \"o\", alpha=0.3)\n",
    "\n",
    "plotadataset(X, y)\n",
    "\n",
    "def plotavetor(vetor, cor=\"k\"):\n",
    "    origem = [0,0]\n",
    "    plt.arrow(*origem, *vetor, color=cor)\n",
    "\n",
    "vetor = [1, -1]\n",
    "\n",
    "def perpendicular(vetor):\n",
    "    perp = np.array(vetor[::-1])\n",
    "    perp[0] *= -1\n",
    "    return perp\n",
    "\n",
    "hiperplano = perpendicular(vetor)\n",
    "\n",
    "plotavetor(hiperplano)"
   ]
  },
  {
   "cell_type": "code",
   "execution_count": 3,
   "metadata": {},
   "outputs": [
    {
     "name": "stdout",
     "output_type": "stream",
     "text": [
      "26.915993445848773\n",
      "43.31245817212882\n",
      "28.26545231912152\n",
      "31.94536806870914\n",
      "27.851676840742478\n",
      "28.433614302665728\n",
      "27.219474947383453\n",
      "27.22525819111821\n",
      "26.844644862872276\n",
      "26.796579553911055\n",
      "26.67612901113571\n",
      "26.650777015955942\n",
      "26.616189769285533\n",
      "26.609825244077662\n",
      "26.60397186567063\n",
      "26.606396612545044\n",
      "26.609478708370695\n",
      "26.61461554956055\n",
      "26.619665686597347\n",
      "26.624830571628486\n",
      "26.629531920704846\n",
      "26.63381433548055\n",
      "26.63755998397967\n",
      "26.640817456541274\n",
      "26.64360130967531\n",
      "26.645967378525196\n",
      "26.647960954579908\n",
      "26.649633752050498\n",
      "26.65103066039704\n",
      "26.652193815636412\n",
      "26.6531595733238\n",
      "26.65395985976195\n",
      "26.654621848411253\n",
      "26.655168715189294\n",
      "26.655619964629405\n",
      "26.65599198509674\n",
      "26.656298458365942\n",
      "26.656550783383558\n",
      "26.656758424510695\n",
      "26.656929226664094\n",
      "26.657069679425344\n",
      "26.657185144592766\n",
      "26.657280046728246\n",
      "26.65735803384396\n",
      "26.657422111336526\n",
      "26.65747475372785\n",
      "26.657517997397697\n",
      "26.657553517491646\n",
      "26.657582691534955\n",
      "26.657606652004375\n",
      "26.657626329710247\n",
      "26.657642489569017\n",
      "26.657655760075066\n",
      "26.657666657568\n",
      "26.657675606203743\n",
      "26.65768295438365\n",
      "26.657688988264724\n",
      "26.657693942867056\n",
      "26.657698011203163\n",
      "26.657701351780577\n",
      "26.65770409476622\n",
      "26.657706347050986\n",
      "26.657708196410006\n",
      "26.657709714920014\n",
      "26.657710961766114\n",
      "26.657711985547024\n",
      "26.6577128261683\n",
      "26.65771351639703\n",
      "26.657714083138686\n",
      "26.65771454848554\n",
      "26.65771493057762\n",
      "26.657715244309742\n",
      "26.657715501912012\n",
      "26.657715713426523\n",
      "26.65771588709879\n",
      "26.657716029699166\n",
      "26.657716146786708\n",
      "26.65771624292595\n",
      "26.657716321864758\n",
      "26.65771638668048\n",
      "26.657716439899904\n",
      "26.657716483597728\n",
      "26.6577165194775\n",
      "26.657716548937927\n",
      "26.657716573127537\n",
      "26.657716592989335\n",
      "26.65771660929761\n",
      "26.65771662268814\n",
      "26.65771663368293\n",
      "26.65771664271062\n",
      "26.657716650123156\n",
      "26.65771665620949\n",
      "26.65771666120691\n",
      "26.657716665310215\n",
      "26.657716668679402\n",
      "26.657716671445797\n",
      "26.657716673717243\n",
      "26.657716675582314\n",
      "26.657716677113694\n",
      "26.657716678371088\n",
      "0.95\n"
     ]
    }
   ],
   "source": [
    "from sklearn.base import BaseEstimator, ClassifierMixin\n",
    "\n",
    "class CustoPerceptron():\n",
    "    @staticmethod\n",
    "    def erro(y, ypred):\n",
    "        return y - ypred\n",
    "    @staticmethod\n",
    "    def custo(y, ypred):\n",
    "        return np.sum(CustoPerceptron.erro(y, ypred)**2)\n",
    "    @staticmethod\n",
    "    def gradiente(y, ypred, X):\n",
    "        return np.matmul(CustoPerceptron.erro(y, ypred), X)\n",
    "\n",
    "class HingeLoss():\n",
    "    @staticmethod\n",
    "    def erro(y, ypred):\n",
    "        return np.multiply(y, ypred)\n",
    "    @staticmethod\n",
    "    def custo(y, ypred):\n",
    "        return np.sum(1 - HingeLoss.erro(y, ypred))\n",
    "    @staticmethod\n",
    "    def gradiente(y, ypred, X):\n",
    "        marginais = HingeLoss.erro(y, ypred) < 1\n",
    "        return np.matmul(y[marginais], X[marginais])\n",
    "\n",
    "class Adaline():\n",
    "    def __init__(self):\n",
    "        self.preactivated = True\n",
    "    @staticmethod\n",
    "    def erro(y, ypred):\n",
    "        return y - ypred\n",
    "    @staticmethod\n",
    "    def custo(y, ypred):\n",
    "        return np.sum((1 - Adaline.erro(y, ypred))**2)\n",
    "    @staticmethod\n",
    "    def gradiente(y, ypred, X):\n",
    "        return np.matmul(Adaline.erro(y, ypred), X)\n",
    "\n",
    "class Perceptron(BaseEstimator, ClassifierMixin):\n",
    "    def __init__(self, custo=CustoPerceptron()):\n",
    "        self.w = None\n",
    "        self.activation = lambda a: (a>=0)*2-1\n",
    "        self.alpha = 0.1\n",
    "        self.maxiter = 100\n",
    "        self.custo = custo\n",
    "\n",
    "    def fit(self, X, y):\n",
    "        self.w = np.random.uniform(-1, 1, size=2)\n",
    "        for _ in range(self.maxiter):\n",
    "            if hasattr(self.custo, 'preactivated') and self.custo.preactivated:\n",
    "                ypred = self.preactivate(X)\n",
    "            else: \n",
    "                ypred = self.predict(X) \n",
    "            custo = self.custo.custo(y, ypred)\n",
    "            print(custo)\n",
    "            self.w = self.w + self.alpha*self.custo.gradiente(y, ypred, X)\n",
    "            if custo==0:\n",
    "                break\n",
    "    \n",
    "    def preactivate(self, X):\n",
    "        return np.matmul(X, self.w)\n",
    "\n",
    "    def predict(self, X):\n",
    "        a = self.preactivate(X)\n",
    "        ypred = self.activation(a)\n",
    "        return ypred\n",
    "\n",
    "perceptron = Perceptron(custo=Adaline())\n",
    "perceptron.fit(X, y)\n",
    "ypred = perceptron.predict(X)\n",
    "print(sum(y == ypred)/len(y))"
   ]
  },
  {
   "cell_type": "markdown",
   "metadata": {},
   "source": [
    "#### Função: CustoPerceptron"
   ]
  },
  {
   "cell_type": "code",
   "execution_count": 4,
   "metadata": {},
   "outputs": [
    {
     "name": "stdout",
     "output_type": "stream",
     "text": [
      "24\n",
      "48\n",
      "32\n",
      "8\n",
      "0\n",
      "1.0\n"
     ]
    }
   ],
   "source": [
    "perceptron = Perceptron(custo=CustoPerceptron())\n",
    "perceptron.fit(X, y)\n",
    "ypred = perceptron.predict(X)\n",
    "print(sum(y == ypred)/len(y))"
   ]
  },
  {
   "cell_type": "markdown",
   "metadata": {},
   "source": [
    "#### Função HingeLoss"
   ]
  },
  {
   "cell_type": "code",
   "execution_count": 5,
   "metadata": {},
   "outputs": [
    {
     "name": "stdout",
     "output_type": "stream",
     "text": [
      "20\n",
      "10\n",
      "4\n",
      "2\n",
      "2\n",
      "2\n",
      "2\n",
      "2\n",
      "0\n",
      "1.0\n"
     ]
    }
   ],
   "source": [
    "perceptron = Perceptron(custo=HingeLoss())\n",
    "perceptron.fit(X, y)\n",
    "ypred = perceptron.predict(X)\n",
    "print(sum(y == ypred)/len(y))"
   ]
  }
 ],
 "metadata": {
  "interpreter": {
   "hash": "45beaf1bbaf1f4539db6cc65708e9bc09be995c5454858dbd2322c7e6d854a88"
  },
  "kernelspec": {
   "display_name": "Python 3.8.8 ('base')",
   "language": "python",
   "name": "python3"
  },
  "language_info": {
   "codemirror_mode": {
    "name": "ipython",
    "version": 3
   },
   "file_extension": ".py",
   "mimetype": "text/x-python",
   "name": "python",
   "nbconvert_exporter": "python",
   "pygments_lexer": "ipython3",
   "version": "3.8.8"
  },
  "orig_nbformat": 4
 },
 "nbformat": 4,
 "nbformat_minor": 2
}
