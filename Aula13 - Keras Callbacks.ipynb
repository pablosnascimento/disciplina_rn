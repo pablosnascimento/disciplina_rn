{
 "cells": [
  {
   "cell_type": "markdown",
   "metadata": {},
   "source": [
    "# Keras - Callbacks\n",
    "\n",
    "Construindo a rede. Após compilar o modelos, alguns metodos podem ser usados como por exemplo model.layer[1].input ou model.layer[1].output que mostra a camada ou as camadas de entrada e/ou de saída do modelo criado."
   ]
  },
  {
   "cell_type": "code",
   "execution_count": 5,
   "metadata": {},
   "outputs": [],
   "source": [
    "from tensorflow.keras.datasets import mnist\n",
    "from tensorflow import keras\n",
    "from keras import layers\n",
    "\n",
    "def get_mnist_model():\n",
    "    '''\n",
    "    Para que seja possível visualizar o Summary só é possível com a camada Input OU\n",
    "    fazendo o build sobre o modelo. Ter que fazer o build pe ruim porque se mudar a \n",
    "    quantidade de colunas da base de dados, o modelo teria que ser recompilado.\n",
    "    Como estamos usando uma base de dados pronta 'mnist' estamos usando 28*28\n",
    "    '''\n",
    "    #camada 1 - input\n",
    "    inputs = keras.Input(shape=(28*28))\n",
    "\n",
    "    #camada 2 - features\n",
    "    features = layers.Dense(512, activation=\"relu\")(inputs)\n",
    "\n",
    "    #camada 3 - reaproveitando variaveis features\n",
    "    features = layers.Dropout(0.5)(features)\n",
    "\n",
    "    outputs = layers.Dense(10, activation=\"softmax\")(features)\n",
    "\n",
    "    model = keras.Model(inputs, outputs)\n",
    "\n",
    "    return model"
   ]
  },
  {
   "cell_type": "markdown",
   "metadata": {},
   "source": [
    "Até agora o que estávamos fazendo?\n",
    "Treinamos o modelo, olha até onde ele foi nas tentativas... treina de novo... mas sem considerar qual o melhor ponto de parada do treinamento. Ou seja, no momento em que o treinamento não for mais útil (começar a dar overfit), podemos parar.\n",
    "\n",
    "Em outras palavras, quando o valor de acurácia da validação começar a subir divergindo do treino, podemos parar.\n",
    "\n",
    "Também podemos salvar parciais do modelo treinado com checkpoint. Assim, podemos carregar o modelo parial já treinado e continuar a partir dele."
   ]
  },
  {
   "cell_type": "code",
   "execution_count": 7,
   "metadata": {},
   "outputs": [
    {
     "name": "stdout",
     "output_type": "stream",
     "text": [
      "Epoch 1/20\n",
      "1563/1563 [==============================] - 16s 10ms/step - loss: 0.2933 - accuracy: 0.9126 - val_loss: 0.1435 - val_accuracy: 0.9604\n",
      "Epoch 2/20\n",
      "1563/1563 [==============================] - 16s 10ms/step - loss: 0.1665 - accuracy: 0.9526 - val_loss: 0.1239 - val_accuracy: 0.9664\n",
      "Epoch 3/20\n",
      "1563/1563 [==============================] - 16s 10ms/step - loss: 0.1377 - accuracy: 0.9621 - val_loss: 0.1145 - val_accuracy: 0.9728\n",
      "Epoch 4/20\n",
      "1563/1563 [==============================] - 16s 10ms/step - loss: 0.1267 - accuracy: 0.9671 - val_loss: 0.1110 - val_accuracy: 0.9736\n",
      "Epoch 5/20\n",
      "1563/1563 [==============================] - 16s 10ms/step - loss: 0.1166 - accuracy: 0.9710 - val_loss: 0.1144 - val_accuracy: 0.9755\n",
      "Epoch 6/20\n",
      "1563/1563 [==============================] - 17s 11ms/step - loss: 0.1115 - accuracy: 0.9725 - val_loss: 0.1106 - val_accuracy: 0.9763\n",
      "Epoch 7/20\n",
      "1563/1563 [==============================] - 16s 10ms/step - loss: 0.1034 - accuracy: 0.9756 - val_loss: 0.1159 - val_accuracy: 0.9764\n",
      "Epoch 8/20\n",
      "1563/1563 [==============================] - 16s 10ms/step - loss: 0.1020 - accuracy: 0.9767 - val_loss: 0.1098 - val_accuracy: 0.9774\n",
      "Epoch 9/20\n",
      "1563/1563 [==============================] - 16s 10ms/step - loss: 0.0981 - accuracy: 0.9772 - val_loss: 0.1206 - val_accuracy: 0.9776\n",
      "Epoch 10/20\n",
      "1563/1563 [==============================] - 17s 11ms/step - loss: 0.0933 - accuracy: 0.9786 - val_loss: 0.1237 - val_accuracy: 0.9785\n",
      "Epoch 11/20\n",
      "1563/1563 [==============================] - 16s 10ms/step - loss: 0.0966 - accuracy: 0.9789 - val_loss: 0.1188 - val_accuracy: 0.9787\n",
      "Epoch 12/20\n",
      "1563/1563 [==============================] - 17s 11ms/step - loss: 0.0855 - accuracy: 0.9799 - val_loss: 0.1298 - val_accuracy: 0.9780\n",
      "Epoch 13/20\n",
      "1563/1563 [==============================] - 16s 11ms/step - loss: 0.0875 - accuracy: 0.9809 - val_loss: 0.1315 - val_accuracy: 0.9800\n",
      "Epoch 14/20\n",
      "1563/1563 [==============================] - 17s 11ms/step - loss: 0.0850 - accuracy: 0.9814 - val_loss: 0.1238 - val_accuracy: 0.9799\n",
      "Epoch 15/20\n",
      "1563/1563 [==============================] - 18s 11ms/step - loss: 0.0806 - accuracy: 0.9828 - val_loss: 0.1273 - val_accuracy: 0.9804\n",
      "Epoch 16/20\n",
      "1563/1563 [==============================] - 17s 11ms/step - loss: 0.0799 - accuracy: 0.9837 - val_loss: 0.1424 - val_accuracy: 0.9768\n",
      "Epoch 17/20\n",
      "1563/1563 [==============================] - 16s 10ms/step - loss: 0.0775 - accuracy: 0.9835 - val_loss: 0.1306 - val_accuracy: 0.9797\n",
      "313/313 [==============================] - 1s 5ms/step - loss: 0.1162 - accuracy: 0.9810\n"
     ]
    }
   ],
   "source": [
    "import numpy as np\n",
    "from tensorflow.keras.utils import to_categorical\n",
    "\n",
    "callbacks_list = [\n",
    "    keras.callbacks.EarlyStopping(\n",
    "    monitor=\"val_accuracy\", #função a ser considerada no monitoramento para pararmos o treinamento\n",
    "    patience=2),     #se aumentar a acurácia de validação duas vezes ele para\n",
    "\n",
    "    keras.callbacks.ModelCheckpoint(filepath=\"checkpoint_path.keras\",\n",
    "                                monitor=\"val_loss\",\n",
    "                                save_best_only=True)]\n",
    "\n",
    "c='''\n",
    "Neste caso não binarizamos os dados, então podemos usar a loss-function sparse_categorical_crossentropy.\n",
    "'''\n",
    "epochs=20\n",
    "\n",
    "(images, labels), (test_images, test_labels) = mnist.load_data()\n",
    "images = images.reshape((60000, 28*28)).astype(\"float32\")/255\n",
    "test_images = test_images.reshape((10000, 28*28)).astype(\"float32\")/255\n",
    "train_images,val_images = images[10000:], images[:10000]\n",
    "train_labels, val_labels = labels[10000:], labels[:10000]\n",
    "model = get_mnist_model()\n",
    "model.compile(optimizer = \"rmsprop\", loss=\"sparse_categorical_crossentropy\", metrics=\"accuracy\")\n",
    "model.fit(train_images, train_labels, epochs=epochs,callbacks=callbacks_list, validation_data=(val_images, val_labels))\n",
    "test_metrics = model.evaluate(test_images, test_labels)\n",
    "predictions = model.predict(test_images)\n"
   ]
  },
  {
   "cell_type": "markdown",
   "metadata": {},
   "source": [
    "Neste exemplo, vemos que o valor de accuracy caiu de 0.9837 para 0.9835; em seguida, houve uma segunda queda para 0.9810, nesse momento o EarlyStopping atuou e parou o treinamento, pois atingiu os 2 do parâmetro patience. Patience pode ser usado também monitorando a função de loss.\n",
    "\n",
    "Passando adiante, podemos também criar nossa própria função de callback."
   ]
  },
  {
   "cell_type": "code",
   "execution_count": 23,
   "metadata": {},
   "outputs": [],
   "source": [
    "from matplotlib import pyplot as plt\n",
    "\n",
    "class LossHistory(keras.callbacks.Callback):\n",
    "    def on_train_begin(self, logs):\n",
    "        self.per_batch_losses = [] #ok so isso\n",
    "        self.per_val_losses = []\n",
    "\n",
    "    def on_epoch_end(self, epoch, logs):\n",
    "        self.per_batch_losses.append(logs.get(\"loss\")) #ok so isso\n",
    "        self.per_val_losses.append(logs.get(\"val_loss\"))\n",
    "\n",
    "    def on_train_end(self, logs):        \n",
    "        plt.clf()\n",
    "        #ok so isso\n",
    "        plt.plot(range(len(self.per_batch_losses)),\n",
    "                self.per_batch_losses,\n",
    "                label=\"Training loss for each batch\")\n",
    "        #fimok\n",
    "\n",
    "        #tentando imprimir duas metricas chamando os resultados direto daqui, sem os passos intermediarios preenchendo a lista\n",
    "        plt.plot(range(len(self.per_val_losses)),\n",
    "                self.per_val_losses,\n",
    "                label=\"Training val_loss for each batch\")\n",
    "    \n",
    "        #plt.xlabel(f\"Batch(epoch{epoch})\")\n",
    "        plt.xlabel(f\"Batch(epoch)\")\n",
    "        plt.ylabel(\"loss\")\n",
    "        plt.legend()\n",
    "        #plt.savefig(f\"plot_at_epoch_{epoch}\")\n",
    "        plt.show()\n",
    "        self.per_batch_losses = []\n",
    "        self.per_val_losses = []"
   ]
  },
  {
   "cell_type": "markdown",
   "metadata": {},
   "source": [
    "Testando novamente chamando agora, ao inves dos callbacks anteriores, chamamos o HistoryLoss() para imprimir os arquivos conforme os checkpoints e mostrando os gráficos."
   ]
  },
  {
   "cell_type": "code",
   "execution_count": 25,
   "metadata": {},
   "outputs": [
    {
     "name": "stdout",
     "output_type": "stream",
     "text": [
      "Epoch 1/10\n",
      "   1/1563 [..............................] - ETA: 12:45 - loss: 2.3583 - accuracy: 0.0625WARNING:tensorflow:Callback method `on_train_batch_end` is slow compared to the batch time (batch time: 0.0040s vs `on_train_batch_end` time: 0.0048s). Check your callbacks.\n",
      "1563/1563 [==============================] - 16s 10ms/step - loss: 0.2970 - accuracy: 0.9120 - val_loss: 0.1564 - val_accuracy: 0.9546\n",
      "Epoch 2/10\n",
      "1563/1563 [==============================] - 15s 10ms/step - loss: 0.1624 - accuracy: 0.9548 - val_loss: 0.1248 - val_accuracy: 0.9648\n",
      "Epoch 3/10\n",
      "1563/1563 [==============================] - 16s 10ms/step - loss: 0.1395 - accuracy: 0.9634 - val_loss: 0.1122 - val_accuracy: 0.9705\n",
      "Epoch 4/10\n",
      "1563/1563 [==============================] - 16s 10ms/step - loss: 0.1289 - accuracy: 0.9673 - val_loss: 0.1143 - val_accuracy: 0.9737\n",
      "Epoch 5/10\n",
      "1563/1563 [==============================] - 16s 10ms/step - loss: 0.1170 - accuracy: 0.9694 - val_loss: 0.1129 - val_accuracy: 0.9759\n",
      "Epoch 6/10\n",
      "1563/1563 [==============================] - 16s 10ms/step - loss: 0.1090 - accuracy: 0.9728 - val_loss: 0.1108 - val_accuracy: 0.9760\n",
      "Epoch 7/10\n",
      "1563/1563 [==============================] - 16s 10ms/step - loss: 0.1046 - accuracy: 0.9746 - val_loss: 0.1190 - val_accuracy: 0.9761\n",
      "Epoch 8/10\n",
      "1563/1563 [==============================] - 16s 10ms/step - loss: 0.1031 - accuracy: 0.9761 - val_loss: 0.1194 - val_accuracy: 0.9755\n",
      "Epoch 9/10\n",
      "1563/1563 [==============================] - 16s 10ms/step - loss: 0.0973 - accuracy: 0.9774 - val_loss: 0.1188 - val_accuracy: 0.9789\n",
      "Epoch 10/10\n",
      "1563/1563 [==============================] - 16s 10ms/step - loss: 0.0978 - accuracy: 0.9789 - val_loss: 0.1144 - val_accuracy: 0.9790\n"
     ]
    },
    {
     "data": {
      "image/png": "[encoded data removed]",
      "text/plain": [
       "<Figure size 432x288 with 1 Axes>"
      ]
     },
     "metadata": {
      "needs_background": "light"
     },
     "output_type": "display_data"
    },
    {
     "name": "stdout",
     "output_type": "stream",
     "text": [
      "313/313 [==============================] - 1s 5ms/step - loss: 0.1077 - accuracy: 0.9794\n"
     ]
    }
   ],
   "source": [
    "epochs = 10\n",
    "\n",
    "(images, labels), (test_images, test_labels) = mnist.load_data()\n",
    "images = images.reshape((60000, 28*28)).astype(\"float32\")/255\n",
    "test_images = test_images.reshape((10000, 28*28)).astype(\"float32\")/255\n",
    "train_images,val_images = images[10000:], images[:10000]\n",
    "train_labels, val_labels = labels[10000:], labels[:10000]\n",
    "model = get_mnist_model()\n",
    "model.compile(optimizer = \"rmsprop\", loss=\"sparse_categorical_crossentropy\", metrics=\"accuracy\")\n",
    "model.fit(train_images, train_labels, epochs=epochs,callbacks=LossHistory(), validation_data=(val_images, val_labels))\n",
    "test_metrics = model.evaluate(test_images, test_labels)\n",
    "predictions = model.predict(test_images)"
   ]
  }
 ],
 "metadata": {
  "interpreter": {
   "hash": "789afba2c2ece3ddcca599b9aeed63445a6de9a1326ce762a42af1715f9d113c"
  },
  "kernelspec": {
   "display_name": "Python 3.8.8 64-bit",
   "language": "python",
   "name": "python3"
  },
  "language_info": {
   "codemirror_mode": {
    "name": "ipython",
    "version": 3
   },
   "file_extension": ".py",
   "mimetype": "text/x-python",
   "name": "python",
   "nbconvert_exporter": "python",
   "pygments_lexer": "ipython3",
   "version": "3.8.8"
  },
  "orig_nbformat": 4
 },
 "nbformat": 4,
 "nbformat_minor": 2
}
