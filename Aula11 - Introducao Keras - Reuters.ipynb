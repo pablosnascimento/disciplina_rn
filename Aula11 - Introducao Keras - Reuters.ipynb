{
 "cells": [
  {
   "cell_type": "markdown",
   "metadata": {},
   "source": [
    "# Introdução ao Keras - com Reuters\n",
    "\n",
    "Semelhante ao notebook anterior, mas agora utilizando a base reuters, que possui 46 labels na saída."
   ]
  },
  {
   "cell_type": "code",
   "execution_count": 11,
   "metadata": {},
   "outputs": [
    {
     "data": {
      "text/plain": [
       "(8982,)"
      ]
     },
     "execution_count": 11,
     "metadata": {},
     "output_type": "execute_result"
    }
   ],
   "source": [
    "from tensorflow.keras.datasets import reuters\n",
    "(train_data, train_labels), (test_data, test_labels) = reuters.load_data(num_words=10000)\n",
    "\n",
    "train_data.shape"
   ]
  },
  {
   "cell_type": "markdown",
   "metadata": {},
   "source": [
    "num_words: esse parâmetro irá considerar apenas as 10000 palavras mais frequentes dos comentários  existentes. Sem essa restrição existem 88000 palavras. \n",
    "\n",
    "Porém, o número de amostras está em torno de 30000, então, se usarmos todas só de passarmos uma regressão linear o modelo irá aprender 100% no treino porque irá decorar as saídas. \n",
    "\n",
    "Restringindo a 10000 evitaremos esse problema e treinaremos um modelo mais adequado.\n"
   ]
  },
  {
   "cell_type": "code",
   "execution_count": 12,
   "metadata": {},
   "outputs": [
    {
     "data": {
      "text/plain": [
       "'? ? ? said as a result of its december acquisition of space co it expects earnings per share in 1987 of 1 15 to 1 30 dlrs per share up from 70 cts in 1986 the company said pretax net should rise to nine to 10 mln dlrs from six mln dlrs in 1986 and rental operation revenues to 19 to 22 mln dlrs from 12 5 mln dlrs it said cash flow per share this year should be 2 50 to three dlrs reuter 3'"
      ]
     },
     "execution_count": 12,
     "metadata": {},
     "output_type": "execute_result"
    }
   ],
   "source": [
    "def decode_words(word_index, sentence):\n",
    "    reverse_word_index = dict([(value, key) for (key, value) in word_index.items()]) #convertendo os pares (indice,palavra) para (palavra,indice)\n",
    "    return ' '.join([reverse_word_index.get(i-3, \"?\") for i in sentence]) #i-3 porque o indice começa a partir dele\n",
    "\n",
    "decode_words(reuters.get_word_index(), train_data[0])"
   ]
  },
  {
   "cell_type": "code",
   "execution_count": 13,
   "metadata": {},
   "outputs": [],
   "source": [
    "import numpy as np\n",
    "from tensorflow import keras\n",
    "from keras import layers\n",
    "from tensorflow.keras.utils import to_categorical\n",
    "\n",
    "def vectorize_sequences(sequences, dimension=10000):\n",
    "    results = np.zeros((len(sequences),dimension))\n",
    "    for i, sequence in enumerate(sequences):\n",
    "        for j in sequence:\n",
    "            results[i,j]=1\n",
    "    return results\n",
    "\n",
    "X_train = vectorize_sequences(train_data)\n",
    "X_test = vectorize_sequences(test_data)\n",
    "y_train = to_categorical(train_labels)\n",
    "y_test = to_categorical(test_labels)"
   ]
  },
  {
   "cell_type": "code",
   "execution_count": 15,
   "metadata": {},
   "outputs": [
    {
     "name": "stdout",
     "output_type": "stream",
     "text": [
      "Epoch 1/20\n",
      "16/16 [==============================] - 2s 62ms/step - loss: 2.5807 - accuracy: 0.5098 - val_loss: 1.6557 - val_accuracy: 0.6330\n",
      "Epoch 2/20\n",
      "16/16 [==============================] - 1s 50ms/step - loss: 1.3853 - accuracy: 0.7058 - val_loss: 1.2941 - val_accuracy: 0.7200\n",
      "Epoch 3/20\n",
      "16/16 [==============================] - 1s 47ms/step - loss: 1.0392 - accuracy: 0.7818 - val_loss: 1.1354 - val_accuracy: 0.7580\n",
      "Epoch 4/20\n",
      "16/16 [==============================] - 1s 47ms/step - loss: 0.8261 - accuracy: 0.8307 - val_loss: 1.0326 - val_accuracy: 0.7900\n",
      "Epoch 5/20\n",
      "16/16 [==============================] - 1s 46ms/step - loss: 0.6639 - accuracy: 0.8659 - val_loss: 0.9733 - val_accuracy: 0.7980\n",
      "Epoch 6/20\n",
      "16/16 [==============================] - 1s 47ms/step - loss: 0.5276 - accuracy: 0.8954 - val_loss: 0.9235 - val_accuracy: 0.8090\n",
      "Epoch 7/20\n",
      "16/16 [==============================] - 1s 46ms/step - loss: 0.4271 - accuracy: 0.9114 - val_loss: 0.9035 - val_accuracy: 0.8190\n",
      "Epoch 8/20\n",
      "16/16 [==============================] - 1s 46ms/step - loss: 0.3463 - accuracy: 0.9258 - val_loss: 0.9145 - val_accuracy: 0.8130\n",
      "Epoch 9/20\n",
      "16/16 [==============================] - 1s 45ms/step - loss: 0.2882 - accuracy: 0.9372 - val_loss: 0.9085 - val_accuracy: 0.8150\n",
      "Epoch 10/20\n",
      "16/16 [==============================] - 1s 46ms/step - loss: 0.2435 - accuracy: 0.9431 - val_loss: 0.9202 - val_accuracy: 0.8190\n",
      "Epoch 11/20\n",
      "16/16 [==============================] - 1s 47ms/step - loss: 0.2130 - accuracy: 0.9480 - val_loss: 0.9230 - val_accuracy: 0.8110\n",
      "Epoch 12/20\n",
      "16/16 [==============================] - 1s 46ms/step - loss: 0.1815 - accuracy: 0.9520 - val_loss: 0.9625 - val_accuracy: 0.8230\n",
      "Epoch 13/20\n",
      "16/16 [==============================] - 1s 47ms/step - loss: 0.1666 - accuracy: 0.9521 - val_loss: 0.9418 - val_accuracy: 0.8230\n",
      "Epoch 14/20\n",
      "16/16 [==============================] - 1s 45ms/step - loss: 0.1533 - accuracy: 0.9533 - val_loss: 0.9959 - val_accuracy: 0.7970\n",
      "Epoch 15/20\n",
      "16/16 [==============================] - 1s 46ms/step - loss: 0.1394 - accuracy: 0.9543 - val_loss: 1.0151 - val_accuracy: 0.8100\n",
      "Epoch 16/20\n",
      "16/16 [==============================] - 1s 45ms/step - loss: 0.1316 - accuracy: 0.9564 - val_loss: 1.0115 - val_accuracy: 0.8160\n",
      "Epoch 17/20\n",
      "16/16 [==============================] - 1s 47ms/step - loss: 0.1246 - accuracy: 0.9546 - val_loss: 1.0903 - val_accuracy: 0.7960\n",
      "Epoch 18/20\n",
      "16/16 [==============================] - 1s 48ms/step - loss: 0.1232 - accuracy: 0.9567 - val_loss: 1.0675 - val_accuracy: 0.7980\n",
      "Epoch 19/20\n",
      "16/16 [==============================] - 2s 126ms/step - loss: 0.1141 - accuracy: 0.9570 - val_loss: 1.0706 - val_accuracy: 0.7980\n",
      "Epoch 20/20\n",
      "16/16 [==============================] - 1s 45ms/step - loss: 0.1131 - accuracy: 0.9568 - val_loss: 1.0608 - val_accuracy: 0.8080\n",
      "71/71 [==============================] - 1s 7ms/step - loss: 1.2154 - accuracy: 0.7885\n",
      "[1.2154004573822021, 0.7885128855705261]\n"
     ]
    }
   ],
   "source": [
    "model = keras.Sequential([layers.Dense(64, activation=\"relu\"),\n",
    "                          layers.Dense(64, activation=\"relu\"),\n",
    "                          layers.Dense(46, activation=\"softmax\")])\n",
    "\n",
    "model.compile(optimizer=\"rmsprop\",\n",
    "              loss=\"categorical_crossentropy\",\n",
    "              metrics=[\"accuracy\"])\n",
    "\n",
    "#separando as bases de treino de validação\n",
    "X_val = X_train[:1000]\n",
    "partial_x_train = X_train[1000:]\n",
    "\n",
    "y_val = y_train[:1000]\n",
    "partial_y_train = y_train[1000:]\n",
    "\n",
    "history = model.fit(partial_x_train, partial_y_train, \n",
    "                    epochs=20, batch_size=512, \n",
    "                    validation_data=(X_val, y_val))\n",
    "\n",
    "result = model.evaluate(X_test, y_test)\n",
    "print(result)"
   ]
  },
  {
   "cell_type": "code",
   "execution_count": 16,
   "metadata": {},
   "outputs": [
    {
     "data": {
      "image/png": "[encoded data removed]",
      "text/plain": [
       "<Figure size 432x288 with 1 Axes>"
      ]
     },
     "metadata": {
      "needs_background": "light"
     },
     "output_type": "display_data"
    },
    {
     "data": {
      "image/png": "[encoded data removed]",
      "text/plain": [
       "<Figure size 432x288 with 1 Axes>"
      ]
     },
     "metadata": {
      "needs_background": "light"
     },
     "output_type": "display_data"
    }
   ],
   "source": [
    "import matplotlib.pyplot as plt\n",
    "\n",
    "def PrintHistory(history, function=\"loss\"): #loss ou accuracy\n",
    "    history_dict = history.history\n",
    "    loss_values = history_dict[function]\n",
    "    val_loss_values = history_dict[\"val_\"+function]\n",
    "    epochs = range(1, len(loss_values)+1)\n",
    "    plt.plot(epochs, loss_values, \"bo\", label=\"Training \"+function) #bo=blue o\n",
    "    plt.plot(epochs, val_loss_values, \"b\", label=\"Validation \"+function)\n",
    "    plt.title(\"Training and validation \"+function)\n",
    "    plt.xlabel(\"Epochs\")\n",
    "    plt.xlabel(function)\n",
    "    plt.legend()\n",
    "    plt.show()\n",
    "\n",
    "PrintHistory(history=history, function=\"loss\")\n",
    "PrintHistory(history=history, function=\"accuracy\")"
   ]
  },
  {
   "cell_type": "code",
   "execution_count": 23,
   "metadata": {},
   "outputs": [
    {
     "name": "stdout",
     "output_type": "stream",
     "text": [
      "Epoch 1/100\n",
      "16/16 [==============================] - 1s 59ms/step - loss: 2.5966 - accuracy: 0.5018 - val_loss: 1.7273 - val_accuracy: 0.6370\n",
      "Epoch 2/100\n",
      "16/16 [==============================] - 1s 43ms/step - loss: 1.4129 - accuracy: 0.7052 - val_loss: 1.3076 - val_accuracy: 0.7120\n",
      "Epoch 3/100\n",
      "16/16 [==============================] - 1s 44ms/step - loss: 1.0507 - accuracy: 0.7766 - val_loss: 1.1735 - val_accuracy: 0.7460\n",
      "Epoch 4/100\n",
      "16/16 [==============================] - 1s 45ms/step - loss: 0.8325 - accuracy: 0.8265 - val_loss: 1.0389 - val_accuracy: 0.7960\n",
      "Epoch 5/100\n",
      "16/16 [==============================] - 1s 46ms/step - loss: 0.6670 - accuracy: 0.8609 - val_loss: 0.9844 - val_accuracy: 0.7980\n",
      "Epoch 6/100\n",
      "16/16 [==============================] - 1s 45ms/step - loss: 0.5355 - accuracy: 0.8916 - val_loss: 0.9483 - val_accuracy: 0.8090\n",
      "Epoch 7/100\n",
      "16/16 [==============================] - 1s 45ms/step - loss: 0.4297 - accuracy: 0.9129 - val_loss: 0.9169 - val_accuracy: 0.8070\n",
      "Epoch 8/100\n",
      "16/16 [==============================] - 1s 44ms/step - loss: 0.3507 - accuracy: 0.9288 - val_loss: 0.8961 - val_accuracy: 0.8110\n",
      "Epoch 9/100\n",
      "16/16 [==============================] - 1s 44ms/step - loss: 0.2916 - accuracy: 0.9364 - val_loss: 0.9432 - val_accuracy: 0.8070\n",
      "Epoch 10/100\n",
      "16/16 [==============================] - 1s 45ms/step - loss: 0.2446 - accuracy: 0.9475 - val_loss: 0.9063 - val_accuracy: 0.8110\n",
      "Epoch 11/100\n",
      "16/16 [==============================] - 1s 45ms/step - loss: 0.2116 - accuracy: 0.9493 - val_loss: 0.9258 - val_accuracy: 0.8090\n",
      "Epoch 12/100\n",
      "16/16 [==============================] - 1s 46ms/step - loss: 0.1864 - accuracy: 0.9525 - val_loss: 0.9490 - val_accuracy: 0.8080\n",
      "Epoch 13/100\n",
      "16/16 [==============================] - 1s 45ms/step - loss: 0.1674 - accuracy: 0.9544 - val_loss: 0.9600 - val_accuracy: 0.8050\n",
      "Epoch 14/100\n",
      "16/16 [==============================] - 1s 46ms/step - loss: 0.1544 - accuracy: 0.9545 - val_loss: 0.9827 - val_accuracy: 0.8030\n",
      "Epoch 15/100\n",
      "16/16 [==============================] - 1s 44ms/step - loss: 0.1418 - accuracy: 0.9550 - val_loss: 1.0214 - val_accuracy: 0.8020\n",
      "Epoch 16/100\n",
      "16/16 [==============================] - 1s 46ms/step - loss: 0.1333 - accuracy: 0.9563 - val_loss: 0.9819 - val_accuracy: 0.8080\n",
      "Epoch 17/100\n",
      "16/16 [==============================] - 1s 45ms/step - loss: 0.1242 - accuracy: 0.9574 - val_loss: 1.0036 - val_accuracy: 0.8090\n",
      "Epoch 18/100\n",
      "16/16 [==============================] - 1s 43ms/step - loss: 0.1186 - accuracy: 0.9577 - val_loss: 1.0770 - val_accuracy: 0.8030\n",
      "Epoch 19/100\n",
      "16/16 [==============================] - 1s 44ms/step - loss: 0.1162 - accuracy: 0.9562 - val_loss: 1.0526 - val_accuracy: 0.7960\n",
      "Epoch 20/100\n",
      "16/16 [==============================] - 1s 46ms/step - loss: 0.1173 - accuracy: 0.9569 - val_loss: 1.0722 - val_accuracy: 0.8080\n",
      "Epoch 21/100\n",
      "16/16 [==============================] - 1s 45ms/step - loss: 0.1054 - accuracy: 0.9602 - val_loss: 1.1069 - val_accuracy: 0.8000\n",
      "Epoch 22/100\n",
      "16/16 [==============================] - 1s 44ms/step - loss: 0.1091 - accuracy: 0.9580 - val_loss: 1.0885 - val_accuracy: 0.8060\n",
      "Epoch 23/100\n",
      "16/16 [==============================] - 1s 45ms/step - loss: 0.1023 - accuracy: 0.9597 - val_loss: 1.1621 - val_accuracy: 0.7980\n",
      "Epoch 24/100\n",
      "16/16 [==============================] - 1s 47ms/step - loss: 0.1077 - accuracy: 0.9574 - val_loss: 1.1430 - val_accuracy: 0.8040\n",
      "Epoch 25/100\n",
      "16/16 [==============================] - 1s 48ms/step - loss: 0.0989 - accuracy: 0.9584 - val_loss: 1.1689 - val_accuracy: 0.8020\n",
      "Epoch 26/100\n",
      "16/16 [==============================] - 1s 45ms/step - loss: 0.0992 - accuracy: 0.9600 - val_loss: 1.1870 - val_accuracy: 0.8010\n",
      "Epoch 27/100\n",
      "16/16 [==============================] - 1s 45ms/step - loss: 0.1005 - accuracy: 0.9580 - val_loss: 1.1540 - val_accuracy: 0.8030\n",
      "Epoch 28/100\n",
      "16/16 [==============================] - 1s 45ms/step - loss: 0.1003 - accuracy: 0.9585 - val_loss: 1.1993 - val_accuracy: 0.8040\n",
      "Epoch 29/100\n",
      "16/16 [==============================] - 1s 46ms/step - loss: 0.0939 - accuracy: 0.9593 - val_loss: 1.2615 - val_accuracy: 0.7860\n",
      "Epoch 30/100\n",
      "16/16 [==============================] - 1s 46ms/step - loss: 0.0961 - accuracy: 0.9595 - val_loss: 1.3299 - val_accuracy: 0.7850\n",
      "Epoch 31/100\n",
      "16/16 [==============================] - 1s 45ms/step - loss: 0.0955 - accuracy: 0.9585 - val_loss: 1.2213 - val_accuracy: 0.8000\n",
      "Epoch 32/100\n",
      "16/16 [==============================] - 1s 44ms/step - loss: 0.0934 - accuracy: 0.9583 - val_loss: 1.2975 - val_accuracy: 0.7860\n",
      "Epoch 33/100\n",
      "16/16 [==============================] - 1s 45ms/step - loss: 0.0926 - accuracy: 0.9588 - val_loss: 1.2446 - val_accuracy: 0.7940\n",
      "Epoch 34/100\n",
      "16/16 [==============================] - 1s 44ms/step - loss: 0.0941 - accuracy: 0.9572 - val_loss: 1.2562 - val_accuracy: 0.7960\n",
      "Epoch 35/100\n",
      "16/16 [==============================] - 1s 46ms/step - loss: 0.0926 - accuracy: 0.9583 - val_loss: 1.3587 - val_accuracy: 0.7880\n",
      "Epoch 36/100\n",
      "16/16 [==============================] - 1s 46ms/step - loss: 0.0908 - accuracy: 0.9565 - val_loss: 1.3220 - val_accuracy: 0.7970\n",
      "Epoch 37/100\n",
      "16/16 [==============================] - 1s 45ms/step - loss: 0.0891 - accuracy: 0.9584 - val_loss: 1.2964 - val_accuracy: 0.7970\n",
      "Epoch 38/100\n",
      "16/16 [==============================] - 1s 45ms/step - loss: 0.0885 - accuracy: 0.9594 - val_loss: 1.4066 - val_accuracy: 0.7770\n",
      "Epoch 39/100\n",
      "16/16 [==============================] - 1s 46ms/step - loss: 0.0891 - accuracy: 0.9597 - val_loss: 1.2851 - val_accuracy: 0.7880\n",
      "Epoch 40/100\n",
      "16/16 [==============================] - 1s 45ms/step - loss: 0.0915 - accuracy: 0.9562 - val_loss: 1.3772 - val_accuracy: 0.7880\n",
      "Epoch 41/100\n",
      "16/16 [==============================] - 1s 46ms/step - loss: 0.0869 - accuracy: 0.9599 - val_loss: 1.3429 - val_accuracy: 0.7950\n",
      "Epoch 42/100\n",
      "16/16 [==============================] - 1s 46ms/step - loss: 0.0878 - accuracy: 0.9577 - val_loss: 1.3489 - val_accuracy: 0.7870\n",
      "Epoch 43/100\n",
      "16/16 [==============================] - 1s 45ms/step - loss: 0.0860 - accuracy: 0.9583 - val_loss: 1.4367 - val_accuracy: 0.7800\n",
      "Epoch 44/100\n",
      "16/16 [==============================] - 1s 46ms/step - loss: 0.0862 - accuracy: 0.9589 - val_loss: 1.3984 - val_accuracy: 0.7830\n",
      "Epoch 45/100\n",
      "16/16 [==============================] - 1s 44ms/step - loss: 0.0858 - accuracy: 0.9585 - val_loss: 1.3101 - val_accuracy: 0.7890\n",
      "Epoch 46/100\n",
      "16/16 [==============================] - 1s 46ms/step - loss: 0.0877 - accuracy: 0.9568 - val_loss: 1.3711 - val_accuracy: 0.7860\n",
      "Epoch 47/100\n",
      "16/16 [==============================] - 1s 45ms/step - loss: 0.0833 - accuracy: 0.9589 - val_loss: 1.3983 - val_accuracy: 0.7900\n",
      "Epoch 48/100\n",
      "16/16 [==============================] - 1s 46ms/step - loss: 0.0845 - accuracy: 0.9593 - val_loss: 1.3378 - val_accuracy: 0.7910\n",
      "Epoch 49/100\n",
      "16/16 [==============================] - 1s 45ms/step - loss: 0.0837 - accuracy: 0.9558 - val_loss: 1.3897 - val_accuracy: 0.7910\n",
      "Epoch 50/100\n",
      "16/16 [==============================] - 1s 45ms/step - loss: 0.0824 - accuracy: 0.9608 - val_loss: 1.3452 - val_accuracy: 0.7870\n",
      "Epoch 51/100\n",
      "16/16 [==============================] - 1s 45ms/step - loss: 0.0819 - accuracy: 0.9588 - val_loss: 1.4423 - val_accuracy: 0.7820\n",
      "Epoch 52/100\n",
      "16/16 [==============================] - 1s 46ms/step - loss: 0.0800 - accuracy: 0.9598 - val_loss: 1.4123 - val_accuracy: 0.7890\n",
      "Epoch 53/100\n",
      "16/16 [==============================] - 1s 45ms/step - loss: 0.0822 - accuracy: 0.9595 - val_loss: 1.3611 - val_accuracy: 0.7890\n",
      "Epoch 54/100\n",
      "16/16 [==============================] - 1s 45ms/step - loss: 0.0781 - accuracy: 0.9595 - val_loss: 1.4983 - val_accuracy: 0.7780\n",
      "Epoch 55/100\n",
      "16/16 [==============================] - 1s 45ms/step - loss: 0.0831 - accuracy: 0.9577 - val_loss: 1.4146 - val_accuracy: 0.7850\n",
      "Epoch 56/100\n",
      "16/16 [==============================] - 1s 47ms/step - loss: 0.0778 - accuracy: 0.9602 - val_loss: 1.4929 - val_accuracy: 0.7840\n",
      "Epoch 57/100\n",
      "16/16 [==============================] - 1s 45ms/step - loss: 0.0785 - accuracy: 0.9595 - val_loss: 1.5088 - val_accuracy: 0.7770\n",
      "Epoch 58/100\n",
      "16/16 [==============================] - 1s 46ms/step - loss: 0.0774 - accuracy: 0.9603 - val_loss: 1.4932 - val_accuracy: 0.7800\n",
      "Epoch 59/100\n",
      "16/16 [==============================] - 1s 46ms/step - loss: 0.0779 - accuracy: 0.9589 - val_loss: 1.4680 - val_accuracy: 0.7830\n",
      "Epoch 60/100\n",
      "16/16 [==============================] - 1s 44ms/step - loss: 0.0799 - accuracy: 0.9584 - val_loss: 1.4500 - val_accuracy: 0.7860\n",
      "Epoch 61/100\n",
      "16/16 [==============================] - 1s 45ms/step - loss: 0.0791 - accuracy: 0.9605 - val_loss: 1.5462 - val_accuracy: 0.7700\n",
      "Epoch 62/100\n",
      "16/16 [==============================] - 1s 46ms/step - loss: 0.0783 - accuracy: 0.9574 - val_loss: 1.5417 - val_accuracy: 0.7730\n",
      "Epoch 63/100\n",
      "16/16 [==============================] - 1s 45ms/step - loss: 0.0742 - accuracy: 0.9618 - val_loss: 1.5049 - val_accuracy: 0.7780\n",
      "Epoch 64/100\n",
      "16/16 [==============================] - 1s 45ms/step - loss: 0.0761 - accuracy: 0.9578 - val_loss: 1.4972 - val_accuracy: 0.7810\n",
      "Epoch 65/100\n",
      "16/16 [==============================] - 1s 46ms/step - loss: 0.0777 - accuracy: 0.9580 - val_loss: 1.5034 - val_accuracy: 0.7880\n",
      "Epoch 66/100\n",
      "16/16 [==============================] - 1s 45ms/step - loss: 0.0766 - accuracy: 0.9594 - val_loss: 1.4841 - val_accuracy: 0.7840\n",
      "Epoch 67/100\n",
      "16/16 [==============================] - 1s 45ms/step - loss: 0.0756 - accuracy: 0.9587 - val_loss: 1.4990 - val_accuracy: 0.7820\n",
      "Epoch 68/100\n",
      "16/16 [==============================] - 1s 45ms/step - loss: 0.0739 - accuracy: 0.9599 - val_loss: 1.6727 - val_accuracy: 0.7650\n",
      "Epoch 69/100\n",
      "16/16 [==============================] - 1s 48ms/step - loss: 0.0759 - accuracy: 0.9589 - val_loss: 1.5570 - val_accuracy: 0.7740\n",
      "Epoch 70/100\n",
      "16/16 [==============================] - 1s 46ms/step - loss: 0.0753 - accuracy: 0.9592 - val_loss: 1.6486 - val_accuracy: 0.7720\n",
      "Epoch 71/100\n",
      "16/16 [==============================] - 1s 45ms/step - loss: 0.0744 - accuracy: 0.9579 - val_loss: 1.5817 - val_accuracy: 0.7750\n",
      "Epoch 72/100\n",
      "16/16 [==============================] - 1s 45ms/step - loss: 0.0752 - accuracy: 0.9579 - val_loss: 1.6135 - val_accuracy: 0.7640\n",
      "Epoch 73/100\n",
      "16/16 [==============================] - 1s 45ms/step - loss: 0.0731 - accuracy: 0.9613 - val_loss: 1.5901 - val_accuracy: 0.7740\n",
      "Epoch 74/100\n",
      "16/16 [==============================] - 1s 45ms/step - loss: 0.0757 - accuracy: 0.9585 - val_loss: 1.6162 - val_accuracy: 0.7700\n",
      "Epoch 75/100\n",
      "16/16 [==============================] - 1s 46ms/step - loss: 0.0726 - accuracy: 0.9594 - val_loss: 1.5604 - val_accuracy: 0.7790\n",
      "Epoch 76/100\n",
      "16/16 [==============================] - 1s 45ms/step - loss: 0.0732 - accuracy: 0.9573 - val_loss: 1.6561 - val_accuracy: 0.7760\n",
      "Epoch 77/100\n",
      "16/16 [==============================] - 1s 46ms/step - loss: 0.0707 - accuracy: 0.9600 - val_loss: 1.6543 - val_accuracy: 0.7750\n",
      "Epoch 78/100\n",
      "16/16 [==============================] - 1s 45ms/step - loss: 0.0732 - accuracy: 0.9578 - val_loss: 1.6680 - val_accuracy: 0.7770\n",
      "Epoch 79/100\n",
      "16/16 [==============================] - 1s 44ms/step - loss: 0.0725 - accuracy: 0.9587 - val_loss: 1.6816 - val_accuracy: 0.7790\n",
      "Epoch 80/100\n",
      "16/16 [==============================] - 1s 45ms/step - loss: 0.0714 - accuracy: 0.9579 - val_loss: 1.5987 - val_accuracy: 0.7780\n",
      "Epoch 81/100\n",
      "16/16 [==============================] - 1s 46ms/step - loss: 0.0709 - accuracy: 0.9597 - val_loss: 1.6474 - val_accuracy: 0.7740\n",
      "Epoch 82/100\n",
      "16/16 [==============================] - 1s 45ms/step - loss: 0.0696 - accuracy: 0.9600 - val_loss: 1.6934 - val_accuracy: 0.7740\n",
      "Epoch 83/100\n",
      "16/16 [==============================] - 1s 45ms/step - loss: 0.0711 - accuracy: 0.9577 - val_loss: 1.7137 - val_accuracy: 0.7730\n",
      "Epoch 84/100\n",
      "16/16 [==============================] - 1s 45ms/step - loss: 0.0707 - accuracy: 0.9590 - val_loss: 1.6737 - val_accuracy: 0.7700\n",
      "Epoch 85/100\n",
      "16/16 [==============================] - 1s 45ms/step - loss: 0.0702 - accuracy: 0.9579 - val_loss: 1.6863 - val_accuracy: 0.7710\n",
      "Epoch 86/100\n",
      "16/16 [==============================] - 1s 47ms/step - loss: 0.0691 - accuracy: 0.9592 - val_loss: 1.8209 - val_accuracy: 0.7730\n",
      "Epoch 87/100\n",
      "16/16 [==============================] - 1s 44ms/step - loss: 0.0702 - accuracy: 0.9570 - val_loss: 1.7419 - val_accuracy: 0.7690\n",
      "Epoch 88/100\n",
      "16/16 [==============================] - 1s 46ms/step - loss: 0.0682 - accuracy: 0.9613 - val_loss: 1.7355 - val_accuracy: 0.7660\n",
      "Epoch 89/100\n",
      "16/16 [==============================] - 1s 45ms/step - loss: 0.0687 - accuracy: 0.9588 - val_loss: 1.7642 - val_accuracy: 0.7690\n",
      "Epoch 90/100\n",
      "16/16 [==============================] - 1s 46ms/step - loss: 0.0670 - accuracy: 0.9593 - val_loss: 1.7512 - val_accuracy: 0.7720\n",
      "Epoch 91/100\n",
      "16/16 [==============================] - 1s 44ms/step - loss: 0.0687 - accuracy: 0.9590 - val_loss: 1.7611 - val_accuracy: 0.7690\n",
      "Epoch 92/100\n",
      "16/16 [==============================] - 1s 47ms/step - loss: 0.0689 - accuracy: 0.9590 - val_loss: 1.8363 - val_accuracy: 0.7660\n",
      "Epoch 93/100\n",
      "16/16 [==============================] - 1s 46ms/step - loss: 0.0681 - accuracy: 0.9603 - val_loss: 1.7909 - val_accuracy: 0.7680\n",
      "Epoch 94/100\n",
      "16/16 [==============================] - 1s 47ms/step - loss: 0.0678 - accuracy: 0.9580 - val_loss: 1.8521 - val_accuracy: 0.7670\n",
      "Epoch 95/100\n",
      "16/16 [==============================] - 1s 46ms/step - loss: 0.0669 - accuracy: 0.9604 - val_loss: 1.8066 - val_accuracy: 0.7680\n",
      "Epoch 96/100\n",
      "16/16 [==============================] - 1s 45ms/step - loss: 0.0668 - accuracy: 0.9588 - val_loss: 1.8934 - val_accuracy: 0.7590\n",
      "Epoch 97/100\n",
      "16/16 [==============================] - 1s 46ms/step - loss: 0.0670 - accuracy: 0.9580 - val_loss: 1.9098 - val_accuracy: 0.7610\n",
      "Epoch 98/100\n",
      "16/16 [==============================] - 1s 46ms/step - loss: 0.0669 - accuracy: 0.9574 - val_loss: 1.8741 - val_accuracy: 0.7660\n",
      "Epoch 99/100\n",
      "16/16 [==============================] - 1s 45ms/step - loss: 0.0665 - accuracy: 0.9588 - val_loss: 1.8767 - val_accuracy: 0.7740\n",
      "Epoch 100/100\n",
      "16/16 [==============================] - 1s 45ms/step - loss: 0.0676 - accuracy: 0.9589 - val_loss: 1.8405 - val_accuracy: 0.7670\n",
      "71/71 [==============================] - 1s 7ms/step - loss: 2.2806 - accuracy: 0.7600\n",
      "[2.2806453704833984, 0.7600178122520447]\n"
     ]
    },
    {
     "data": {
      "image/png": "[encoded data removed]",
      "text/plain": [
       "<Figure size 432x288 with 1 Axes>"
      ]
     },
     "metadata": {
      "needs_background": "light"
     },
     "output_type": "display_data"
    },
    {
     "data": {
      "image/png": "[encoded data removed]",
      "text/plain": [
       "<Figure size 432x288 with 1 Axes>"
      ]
     },
     "metadata": {
      "needs_background": "light"
     },
     "output_type": "display_data"
    }
   ],
   "source": [
    "#treinando com 4 epochs\n",
    "\n",
    "from tensorflow import keras\n",
    "from keras import layers\n",
    "\n",
    "model = keras.Sequential([layers.Dense(64, activation=\"relu\"),\n",
    "                          layers.Dense(64, activation=\"relu\"),\n",
    "                          layers.Dense(46, activation=\"softmax\")])\n",
    "\n",
    "model.compile(optimizer=\"rmsprop\",\n",
    "              loss=\"categorical_crossentropy\",\n",
    "              metrics=[\"accuracy\"])\n",
    "\n",
    "#separando as bases de treino de validação\n",
    "X_val = X_train[:1000]\n",
    "partial_x_train = X_train[1000:]\n",
    "\n",
    "y_val = y_train[:1000]\n",
    "partial_y_train = y_train[1000:]\n",
    "\n",
    "history = model.fit(partial_x_train, partial_y_train, \n",
    "                    epochs=100, batch_size=512, \n",
    "                    validation_data=(X_val, y_val))\n",
    "\n",
    "result = model.evaluate(X_test, y_test)\n",
    "print(result)\n",
    "\n",
    "PrintHistory(history=history, function=\"loss\")\n",
    "PrintHistory(history=history, function=\"accuracy\")"
   ]
  },
  {
   "cell_type": "markdown",
   "metadata": {},
   "source": [
    "Nesse ultimo caso, observamos que muitas épocas no treino provoca overffiting. Não adianta treinar demais, pois a função se superajusta aos dados.\n",
    "\n",
    "Para parar no melhor momento, ou seja, quando a função comear a divergir muito é EarlyStop. A partir daí continuar treinando não adianta mais."
   ]
  },
  {
   "cell_type": "markdown",
   "metadata": {},
   "source": []
  },
  {
   "cell_type": "markdown",
   "metadata": {},
   "source": []
  }
 ],
 "metadata": {
  "interpreter": {
   "hash": "789afba2c2ece3ddcca599b9aeed63445a6de9a1326ce762a42af1715f9d113c"
  },
  "kernelspec": {
   "display_name": "Python 3.8.8 64-bit",
   "language": "python",
   "name": "python3"
  },
  "language_info": {
   "codemirror_mode": {
    "name": "ipython",
    "version": 3
   },
   "file_extension": ".py",
   "mimetype": "text/x-python",
   "name": "python",
   "nbconvert_exporter": "python",
   "pygments_lexer": "ipython3",
   "version": "3.8.8"
  },
  "orig_nbformat": 4
 },
 "nbformat": 4,
 "nbformat_minor": 2
}
