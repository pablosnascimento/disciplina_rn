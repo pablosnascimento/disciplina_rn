{
  "cells": [
    {
      "cell_type": "markdown",
      "metadata": {},
      "source": [
        "# PLA - Perceptron Learning Algorithm"
      ]
    },
    {
      "cell_type": "code",
      "execution_count": 1,
      "metadata": {
        "trusted": true
      },
      "outputs": [],
      "source": [
        "import numpy as np\n",
        "\n",
        "def CriaDataSet(n=20):\n",
        "\n",
        "    X = np.random.uniform(size=(n,2))\n",
        "    y = np.array(X[:,0] > X[:,1], dtype=int)*2-1\n",
        "    return X, y"
      ]
    },
    {
      "cell_type": "code",
      "execution_count": 2,
      "metadata": {
        "trusted": true
      },
      "outputs": [
        {
          "data": {
            "text/plain": [
              "(array([[0.15168849, 0.85146145],\n",
              "        [0.49830769, 0.96107908],\n",
              "        [0.59941643, 0.18930369],\n",
              "        [0.66831364, 0.64024728],\n",
              "        [0.73707112, 0.25858585],\n",
              "        [0.71420379, 0.48600453],\n",
              "        [0.01622339, 0.54775086],\n",
              "        [0.45496691, 0.85773365],\n",
              "        [0.80454761, 0.48392481],\n",
              "        [0.64692613, 0.55635121],\n",
              "        [0.84085576, 0.05271887],\n",
              "        [0.55993149, 0.39367951],\n",
              "        [0.96815746, 0.2355975 ],\n",
              "        [0.58572163, 0.27380018],\n",
              "        [0.4133473 , 0.93882965],\n",
              "        [0.30013138, 0.51087983],\n",
              "        [0.26989762, 0.5519906 ],\n",
              "        [0.90780762, 0.51568363],\n",
              "        [0.65088174, 0.0664518 ],\n",
              "        [0.62309616, 0.44931181],\n",
              "        [0.02265068, 0.33321236],\n",
              "        [0.43631028, 0.70589674],\n",
              "        [0.90452743, 0.76831522],\n",
              "        [0.36099722, 0.99664679],\n",
              "        [0.21077365, 0.65894353],\n",
              "        [0.56998543, 0.50522643],\n",
              "        [0.04079618, 0.72260307],\n",
              "        [0.27098444, 0.90592007],\n",
              "        [0.69008079, 0.21410235],\n",
              "        [0.73961271, 0.21829859],\n",
              "        [0.76541799, 0.03749863],\n",
              "        [0.86371118, 0.19920518],\n",
              "        [0.44654423, 0.25044254],\n",
              "        [0.89041517, 0.02758922],\n",
              "        [0.75600187, 0.57331436],\n",
              "        [0.70667104, 0.83849626],\n",
              "        [0.62503129, 0.59572812],\n",
              "        [0.7080115 , 0.6916433 ],\n",
              "        [0.77546404, 0.87406229],\n",
              "        [0.3164672 , 0.13034968]]),\n",
              " array([-1, -1,  1,  1,  1,  1, -1, -1,  1,  1,  1,  1,  1,  1, -1, -1, -1,\n",
              "         1,  1,  1, -1, -1,  1, -1, -1,  1, -1, -1,  1,  1,  1,  1,  1,  1,\n",
              "         1, -1,  1,  1, -1,  1]))"
            ]
          },
          "execution_count": 2,
          "metadata": {},
          "output_type": "execute_result"
        }
      ],
      "source": [
        "Xtr,ytr = CriaDataSet(40)\n",
        "\n",
        "Xtr,ytr"
      ]
    },
    {
      "cell_type": "code",
      "execution_count": 3,
      "metadata": {},
      "outputs": [
        {
          "data": {
            "text/plain": [
              "array([0.59941643, 0.66831364, 0.73707112, 0.71420379, 0.80454761,\n",
              "       0.64692613, 0.84085576, 0.55993149, 0.96815746, 0.58572163,\n",
              "       0.90780762, 0.65088174, 0.62309616, 0.90452743, 0.56998543,\n",
              "       0.69008079, 0.73961271, 0.76541799, 0.86371118, 0.44654423,\n",
              "       0.89041517, 0.75600187, 0.62503129, 0.7080115 , 0.3164672 ])"
            ]
          },
          "execution_count": 3,
          "metadata": {},
          "output_type": "execute_result"
        }
      ],
      "source": [
        "Xtr[:,0][ytr==1]"
      ]
    },
    {
      "cell_type": "code",
      "execution_count": 4,
      "metadata": {
        "trusted": true
      },
      "outputs": [
        {
          "data": {
            "image/png": "[encoded data removed]",
            "text/plain": [
              "<Figure size 432x288 with 1 Axes>"
            ]
          },
          "metadata": {
            "needs_background": "light"
          },
          "output_type": "display_data"
        }
      ],
      "source": [
        "import matplotlib.pyplot as plt\n",
        "\n",
        "def plotDataSet(X,y):\n",
        "    plt.xlabel('X1')\n",
        "    plt.ylabel('X2')\n",
        "    \n",
        "    for k in set(y):\n",
        "        #print(\"k=\",k)\n",
        "        plt.plot(X[:,0][y==k],\n",
        "                 X[:,1][y==k],\n",
        "                 \"o\",alpha=0.3)\n",
        "\n",
        "plotDataSet(Xtr, ytr)\n",
        "plt.show()"
      ]
    },
    {
      "cell_type": "code",
      "execution_count": 5,
      "metadata": {
        "trusted": true
      },
      "outputs": [],
      "source": [
        "def plotHiperplano(X,y,vetor, intercept=0):\n",
        "    x0min = min(X[:,0])\n",
        "    x0max = max(X[:,0])\n",
        "    \n",
        "    xs = np.linspace(x0min, x0max, num=2)\n",
        "    #separador do hiperplano entre duas classificações pode ser \n",
        "    #encontrada conforme calculo abaixo:\n",
        "    ys = (-vetor[0]/vetor[1])*xs-intercept/vetor[1]\n",
        "    plt.plot(xs,ys)"
      ]
    },
    {
      "cell_type": "code",
      "execution_count": 6,
      "metadata": {
        "trusted": true
      },
      "outputs": [
        {
          "data": {
            "image/png": "[encoded data removed]",
            "text/plain": [
              "<Figure size 432x288 with 1 Axes>"
            ]
          },
          "metadata": {
            "needs_background": "light"
          },
          "output_type": "display_data"
        }
      ],
      "source": [
        "plotDataSet(Xtr,ytr)\n",
        "plotHiperplano(Xtr,ytr,[1,-1])\n",
        "plt.show()"
      ]
    },
    {
      "cell_type": "markdown",
      "metadata": {},
      "source": [
        "cada x é um ponto x,y\n",
        "exemplo: x = [0.8, 0.3]\n",
        "usando peso w:\n",
        "w = [1,-1]\n",
        "0.8 -0.3 -> 0.5\n",
        "\n",
        "\n",
        "o que o perceptron faz é encontrar o ponto de separação, ou seja, definir o w do peso usado que corresponda aos dados.\n",
        "\n"
      ]
    },
    {
      "cell_type": "markdown",
      "metadata": {},
      "source": [
        "### Definindo um Perceptron\n",
        "\n",
        "Buscando implementar um perceptron capaz de detectar a reta conforme o exemplo anterior.\n",
        "\n",
        "Sabe-se que ele encontra uma solução quando a base é linearmente separável. Fica buscando uma solução ate encontrar (while True) ou até um limite definido (max_iter)."
      ]
    },
    {
      "cell_type": "code",
      "execution_count": 7,
      "metadata": {
        "trusted": true
      },
      "outputs": [
        {
          "name": "stdout",
          "output_type": "stream",
          "text": [
            "1.0\n"
          ]
        },
        {
          "data": {
            "image/png": "[encoded data removed]",
            "text/plain": [
              "<Figure size 432x288 with 1 Axes>"
            ]
          },
          "metadata": {
            "needs_background": "light"
          },
          "output_type": "display_data"
        }
      ],
      "source": [
        "from sklearn.base import BaseEstimator, ClassifierMixin\n",
        "import random\n",
        "\n",
        "class Perceptron(BaseEstimator, ClassifierMixin):\n",
        "    def __init__(self, max_iter=100):\n",
        "        #roubou: colocou forçado -1 e 1 já sabendo que é a solução da base proposta utilizada\n",
        "        #self.w = np.array([1,-1])\n",
        "        self.w = None\n",
        "        \n",
        "        #função de ativação que retorna 1 ou -1 conforme valor de a\n",
        "        self.activation = lambda a: (a>0)*2-1\n",
        "        \n",
        "        #numero maximo de iterações que irá tentar\n",
        "        self.max_iter = max_iter\n",
        "\n",
        "        #Custos encontrados em cada iteração de treinamento.\n",
        "        self.custos = []\n",
        "        \n",
        "    def predict(self, X,y=None):\n",
        "        #a é um vetor de escalares que será o equivalente ao w dos pesos\n",
        "        #a = X @ self.w\n",
        "        a = X @ self.w #calcula X[0]*w[0] + X[1]*w[1] para cada registro de X e retorna o vetor final.\n",
        "\n",
        "        ypred = self.activation(a)\n",
        "        return ypred\n",
        "    \n",
        "    def fit(self, X, y):\n",
        "        '''\n",
        "        Treinamento ONLINE do perceptron.\n",
        "        '''\n",
        "        self.w = np.random.uniform(-1,1,size=X.shape[1])\n",
        "        #é comprovado que o perceptron pode ficar em loop caso\n",
        "        #a sequencia das amostras lidas seja na mesma ordem.\n",
        "        #para garantir que ele nao fique em loop, vamos criar uma lista\n",
        "        #de indices para buscar aleatoriamente a cada rodada\n",
        "        \n",
        "        # a cada rodada misturar os itens\n",
        "        indexes = list(range(X.shape[0]))\n",
        "        self.custos = []\n",
        "        for j in range(self.max_iter):\n",
        "            any_error = False\n",
        "            #forma online de identificar o custo, uma a um\n",
        "            erros = []\n",
        "            for i in sorted(indexes, key=lambda k: random.random()):\n",
        "                x = X[i,:]\n",
        "                ypred = self.predict(x)\n",
        "                \n",
        "                #calculo que o perceptron faz para achar o erro\n",
        "                erro = y[i] - ypred #-1 + 1 = 0# se 1 + 1 = 2#-1-1=-2, logo o erro é sempre 0, -2 ou +2\n",
        "                erros.append(erro**2)\n",
        "                if erro != 0:\n",
        "                    any_error = True\n",
        "                \n",
        "                #atualiza todo o vetor w se erro encontrado\n",
        "                self.w += erro*x\n",
        "            \n",
        "            #verificando a interação para avaliar quando converge\n",
        "            #print(j)\n",
        "            self.custos.append(sum(erros))\n",
        "            #print('custo%d=%.2f' % (i, custo))\n",
        "\n",
        "            #só para se não encontrar nenhum erro\n",
        "            if not any_error:\n",
        "                break\n",
        "    \n",
        "    def fit2(self, X, y):\n",
        "        '''\n",
        "        Treinamento em BATCH do perceptron.\n",
        "        '''\n",
        "\n",
        "        self.w = np.random.uniform(-1,1,size=X.shape[1])\n",
        "        #é comprovado que o perceptron pode ficar em loop caso\n",
        "        #a sequencia das amostras lidas seja na mesma ordem.\n",
        "        #para garantir que ele nao fique em loop, vamos criar uma lista\n",
        "        #de indices para buscar aleatoriamente a cada rodada\n",
        "        \n",
        "        self.custos = []\n",
        "\n",
        "        # a cada rodada misturar os itens\n",
        "        indexes = list(range(X.shape[0]))\n",
        "        for j in range(self.max_iter):\n",
        "            \n",
        "            #verificando quando converge\n",
        "            #print(j)\n",
        "            \n",
        "            #versao em batch, tudo de uma vez, todo o vetor ao inves de um a um\n",
        "            ypred = self.predict(X)\n",
        "            erros = y-ypred\n",
        "\n",
        "            custo = sum(erros**2)\n",
        "            self.custos.append(custo)\n",
        "            if custo == 0:\n",
        "                break\n",
        "            self.w += X.T @ erros # o erro corrige os pesos, mas o custo não entra nesse ajuste\n",
        "\n",
        "    def PlotCusto(self, tipo):\n",
        "        '''\n",
        "        Plotando o gráfico de iterações x custo para aprendizado.\n",
        "        '''\n",
        "        if (len(self.custos) == 0):\n",
        "            print('ERRO: Modelo ainda não treinado para avaliar o custo!')\n",
        "            return\n",
        "        \n",
        "        x = [i for i in range(0,len(self.custos))]\n",
        "\n",
        "        plt.xlabel('Nº Iterações')\n",
        "        plt.ylabel('Custo ' + tipo)\n",
        "        plt.plot(x, self.custos, \"o\")\n",
        "        plt.show()\n",
        "\n",
        "perceptron = Perceptron()\n",
        "#perceptron.fit(Xtr,ytr)\n",
        "perceptron.fit2(Xtr,ytr)\n",
        "ypred = perceptron.predict(Xtr)\n",
        "#comparando quantos são iguais e divide pelo tamanho: resultado é a acuracia\n",
        "print(sum(ypred==ytr)/len(ytr))\n",
        "plotDataSet(Xtr, ytr)\n",
        "plotHiperplano(Xtr,ytr,perceptron.w)\n",
        "plt.show()"
      ]
    },
    {
      "cell_type": "markdown",
      "metadata": {},
      "source": [
        "## Iterações x Custo: ONLINE e BATCH\n",
        "\n",
        "Faça um Jupyter Notebook com gráficos comparando a redução do custo em duas implementações diferentes do perceptron:\n",
        "\n",
        "com o treinamento online, isto é, o ajustes dos pesos usa o erro de 1 exemplo e cada vez;\n",
        "com o treinamento em batch, quando usa-se todos os exemplos da base de dados simultaneamente para estimar o erro e ajustar os pesos.\n",
        "Escreva um parágrafo explicando as diferenças e o motivo do comportamento de cada implementação."
      ]
    },
    {
      "cell_type": "markdown",
      "metadata": {},
      "source": [
        "### ONLINE"
      ]
    },
    {
      "cell_type": "code",
      "execution_count": 15,
      "metadata": {},
      "outputs": [
        {
          "data": {
            "image/png": "[encoded data removed]",
            "text/plain": [
              "<Figure size 432x288 with 1 Axes>"
            ]
          },
          "metadata": {
            "needs_background": "light"
          },
          "output_type": "display_data"
        }
      ],
      "source": [
        "percepONLINE = Perceptron()\n",
        "percepONLINE.fit(Xtr,ytr)\n",
        "percepONLINE.PlotCusto('ONLINE')"
      ]
    },
    {
      "cell_type": "markdown",
      "metadata": {},
      "source": [
        "### BATCH"
      ]
    },
    {
      "cell_type": "code",
      "execution_count": 9,
      "metadata": {},
      "outputs": [
        {
          "data": {
            "image/png": "[encoded data removed]",
            "text/plain": [
              "<Figure size 432x288 with 1 Axes>"
            ]
          },
          "metadata": {
            "needs_background": "light"
          },
          "output_type": "display_data"
        }
      ],
      "source": [
        "percepBATCH = Perceptron()\n",
        "percepBATCH.fit2(Xtr,ytr)\n",
        "percepBATCH.PlotCusto('BATCH')"
      ]
    },
    {
      "cell_type": "markdown",
      "metadata": {},
      "source": [
        "#### Avaliando os resultados\n",
        "\n",
        "A cada execução o número de iterações para convergência em ambas abordagens varia. Isso implica que o gráfico nem sempre mostrará perceptivelmente os pontos e a tendência de ajuste dos pesos pretendidos. Após executar diversas vezes, é possível notarmos que há uma tendência de diminuição do custo, pois o erro é rapassado ao peso para a iteração seguinte, promovendo uma tendência de minimização dele. Em ambas abordagens esse comportamento ocorre.\n",
        "\n",
        "A questão a ser observada, então, está relacionada aos cenários em que pode-se aplicar uma ou outra abordagem.\n",
        "\n",
        "Na abordagem em Batch é interessante observar que todos os dados estão sendo tratados de uma única vez. Quando temos poucos dados (cabíveis na memória) pode ser adequada e mais rápida. Porém, quando os dados se tornam muito grandes que não cabem na memória temos um problema. Esse problema é resolvido com a abordagem Online, pois temos a liberadade de processar os dados com um melhor uso de memória, já que não precisamos alocar todos os dados de uma única vez.\n",
        "\n",
        "Uma possibilidade que surge como consequência da abordagem online é que podemos treinar o modelo ao longo do tempo à medida que novos dados são disponibilizados de diversas fontes. Ou seja, não precisamos ter todos dados a priori já carregados na base. Dependendo da necessidade, seria possível inciar o treinamento com os primeiros dados e continuar carregando à medida que novos dados de treinamento ainda vão sendo disponibilizados."
      ]
    }
  ],
  "metadata": {
    "interpreter": {
      "hash": "45beaf1bbaf1f4539db6cc65708e9bc09be995c5454858dbd2322c7e6d854a88"
    },
    "kernelspec": {
      "display_name": "Pyolite",
      "language": "python",
      "name": "python3"
    },
    "language_info": {
      "codemirror_mode": {
        "name": "ipython",
        "version": 3
      },
      "file_extension": ".py",
      "mimetype": "text/x-python",
      "name": "python",
      "nbconvert_exporter": "python",
      "pygments_lexer": "ipython3",
      "version": "3.8.8"
    }
  },
  "nbformat": 4,
  "nbformat_minor": 4
}
